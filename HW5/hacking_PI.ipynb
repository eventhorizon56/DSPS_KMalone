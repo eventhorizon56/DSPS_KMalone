{
  "nbformat": 4,
  "nbformat_minor": 0,
  "metadata": {
    "colab": {
      "provenance": [],
      "include_colab_link": true
    },
    "kernelspec": {
      "name": "python3",
      "display_name": "Python 3"
    }
  },
  "cells": [
    {
      "cell_type": "markdown",
      "metadata": {
        "id": "view-in-github",
        "colab_type": "text"
      },
      "source": [
        "<a href=\"https://colab.research.google.com/github/eventhorizon56/DSPS_KMalone/blob/main/HW5/hacking_PI.ipynb\" target=\"_parent\"><img src=\"https://colab.research.google.com/assets/colab-badge.svg\" alt=\"Open In Colab\"/></a>"
      ]
    },
    {
      "cell_type": "code",
      "metadata": {
        "id": "48HNFOn1xKVX",
        "colab": {
          "base_uri": "https://localhost:8080/"
        },
        "outputId": "23dae5c6-8333-476c-949d-40f90497213e"
      },
      "source": [
        "import numpy as np\n",
        "import pylab as pl\n",
        "#!pip install astropy\n",
        "import astropy\n",
        "from astropy import units as u\n",
        "import scipy as sp\n",
        "from scipy import stats\n",
        "import matplotlib.pyplot as plt\n",
        "import pandas as pd\n",
        "from IPython.display import Latex\n",
        "\n",
        "\n",
        "%pylab inline\n"
      ],
      "execution_count": 2,
      "outputs": [
        {
          "output_type": "stream",
          "name": "stdout",
          "text": [
            "Populating the interactive namespace from numpy and matplotlib\n"
          ]
        }
      ]
    },
    {
      "cell_type": "markdown",
      "metadata": {
        "id": "_3wBMf6fiA5l"
      },
      "source": [
        "# Derive empirically the value of $\\pi$ knwoing that the ratio of the area of the square and the inscribed circle is π / 4.\n",
        "\n"
      ]
    },
    {
      "cell_type": "code",
      "metadata": {
        "id": "0ZofSIqBFVcC"
      },
      "source": [
        "def square(l, ax):\n",
        "  ax.plot([-l, l], [-l, -l], 'k-')\n",
        "  ax.plot([-l, l], [l, l], 'k-')\n",
        "  ax.plot([-l, -l], [-l, l], 'k-')\n",
        "  ax.plot([l, l], [-l, l], 'k-')\n"
      ],
      "execution_count": 3,
      "outputs": []
    },
    {
      "cell_type": "code",
      "metadata": {
        "id": "gebTwteLGY5C"
      },
      "source": [
        "def circle(l, ax):\n",
        "  theta = np.linspace(0, 360, 100)\n",
        "  theta *= u.degree\n",
        "  x = l * np.cos(theta.to(u.rad))\n",
        "  y = l * np.sin(theta.to(u.rad))\n",
        "  ax.plot(x, y, 'k-')\n"
      ],
      "execution_count": 4,
      "outputs": []
    },
    {
      "cell_type": "code",
      "metadata": {
        "id": "jmujRXm-xW_O",
        "colab": {
          "base_uri": "https://localhost:8080/",
          "height": 445
        },
        "outputId": "ec2db902-8d04-46ed-8d5f-5fc394d5dbd6"
      },
      "source": [
        "fig, ax = pl.subplots(figsize=(5, 5))\n",
        "square(1, ax=ax)\n",
        "circle(1, ax=ax)"
      ],
      "execution_count": 5,
      "outputs": [
        {
          "output_type": "display_data",
          "data": {
            "text/plain": [
              "<Figure size 500x500 with 1 Axes>"
            ],
            "image/png": "[encoded data removed]"
          },
          "metadata": {}
        }
      ]
    },
    {
      "cell_type": "code",
      "metadata": {
        "id": "dzUf8KLOKH30"
      },
      "source": [
        "# define a function that determins if a random point in the square is inside or outside of the circle\n",
        "def isin(x, y, l):\n",
        "  if((((x**2)+(y**2))**.5)<=l):\n",
        "    return 1\n",
        "  else:\n",
        "    return 0\n"
      ],
      "execution_count": 6,
      "outputs": []
    },
    {
      "cell_type": "code",
      "metadata": {
        "id": "6lBzW1sQFv5W"
      },
      "source": [
        "# draw a bunch coordinates (x,y) inside the suqre. how many?\n",
        "# remember what to do before starting the random calls\n",
        "np.random.seed(2745)\n",
        "x_vals=[]\n",
        "y_vals=[]\n",
        "N_points=100000\n",
        "for i in range(N_points):\n",
        "  x_vals.append(np.random.rand())\n",
        "  y_vals.append(np.random.rand())"
      ],
      "execution_count": 39,
      "outputs": []
    },
    {
      "cell_type": "code",
      "metadata": {
        "id": "gAGyGI3sT1CX",
        "colab": {
          "base_uri": "https://localhost:8080/"
        },
        "outputId": "b220580d-1c0a-4b54-b7f3-02f4a79b9d97"
      },
      "source": [
        "total_=0\n",
        "for n in range(N_points):\n",
        "  total_+=isin(x_vals[n],y_vals[n],1)\n",
        "total_"
      ],
      "execution_count": 40,
      "outputs": [
        {
          "output_type": "execute_result",
          "data": {
            "text/plain": [
              "78616"
            ]
          },
          "metadata": {},
          "execution_count": 40
        }
      ]
    },
    {
      "cell_type": "code",
      "metadata": {
        "id": "AzKnnKWkL6XE",
        "colab": {
          "base_uri": "https://localhost:8080/"
        },
        "outputId": "d9bcbbbd-1d08-48cb-a16c-b2ca8e72d451"
      },
      "source": [
        "# what is the ratio of points in and out of the circle? can you get to pi from it?\n",
        "points_out=N_points-total_\n",
        "\n",
        "(total_/N_points)*4"
      ],
      "execution_count": 47,
      "outputs": [
        {
          "output_type": "execute_result",
          "data": {
            "text/plain": [
              "3.14464"
            ]
          },
          "metadata": {},
          "execution_count": 47
        }
      ]
    },
    {
      "cell_type": "markdown",
      "source": [
        "Because we know the ratio of the area of the square to the area of the circle to be pi/4, the ratio of random points inside the square to the points inside the circle."
      ],
      "metadata": {
        "id": "vkiOewl3BYeJ"
      }
    },
    {
      "cell_type": "code",
      "source": [],
      "metadata": {
        "id": "ePZKwtnR_2mk"
      },
      "execution_count": null,
      "outputs": []
    }
  ]
}